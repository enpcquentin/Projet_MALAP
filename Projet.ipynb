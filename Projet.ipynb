{
 "cells": [
  {
   "cell_type": "markdown",
   "metadata": {
    "deletable": true,
    "editable": true
   },
   "source": [
    "# Projet MALAP\n",
    "\n",
    "## Réalisé par Tong Zhao, Quentin Duchemin et Pierre Boyeau"
   ]
  },
  {
   "cell_type": "code",
   "execution_count": 57,
   "metadata": {
    "collapsed": true,
    "deletable": true,
    "editable": true
   },
   "outputs": [],
   "source": [
    "import  numpy as np\n",
    "import matplotlib.pyplot as plt\n",
    "from tools import *\n",
    "from sklearn.metrics.pairwise import cosine_distances\n",
    "from scipy import stats"
   ]
  },
  {
   "cell_type": "code",
   "execution_count": 47,
   "metadata": {
    "collapsed": false,
    "deletable": true,
    "editable": true
   },
   "outputs": [],
   "source": [
    "def load_usps(filename):\n",
    "    with open(filename,\"r\") as f:\n",
    "        f.readline()\n",
    "        data =[ [float(x) for x in l.split()] for l in f if len(l.split())>2]\n",
    "    tmp = np.array(data)\n",
    "    return tmp[:,1:],tmp[:,0].astype(int)\n",
    "\n",
    "def get_usps(l,datax,datay):\n",
    "    \"\"\" l : liste des chiffres a extraire\"\"\"\n",
    "    if type(l)!=list:\n",
    "        resx = datax[datay==l,:]\n",
    "        resy = datay[datay==l]\n",
    "        return resx,resy\n",
    "    tmp =  list( zip(*[get_usps(i,datax,datay) for i in l]))\n",
    "    tmpx,tmpy = np.vstack(tmp[0]),np.hstack(tmp[1])\n",
    "    idx = np.random.permutation(range(len(tmpy)))\n",
    "    return tmpx[idx,:],tmpy[idx]\n",
    "\n",
    "def show_usps(data):\n",
    "    plt.imshow(data.reshape((16,16)),interpolation=\"nearest\",cmap=\"gray\")"
   ]
  },
  {
   "cell_type": "markdown",
   "metadata": {
    "deletable": true,
    "editable": true
   },
   "source": [
    "## Data processing"
   ]
  },
  {
   "cell_type": "code",
   "execution_count": 161,
   "metadata": {
    "collapsed": false,
    "deletable": true,
    "editable": true
   },
   "outputs": [
    {
     "name": "stdout",
     "output_type": "stream",
     "text": [
      "Load data...\n",
      "\n",
      "Data shape: 1200 * 256\n",
      "\n",
      "Labeled num: 600\n",
      "\n",
      "Unlabeld num: 600\n"
     ]
    }
   ],
   "source": [
    "# Définition de la base d'apprentissage\n",
    "xuspstrain,yuspstrain = load_usps(\"datas/usps/USPS_train.txt\")\n",
    "xuspstrain,yuspstrain = get_usps([8,3],xuspstrain,yuspstrain)\n",
    "data = xuspstrain[:1800,:]\n",
    "yuspstrain = yuspstrain[:1800]\n",
    "(n,m) = np.shape(data)\n",
    "\n",
    "# shuffle data\n",
    "idx = np.random.permutation(n)\n",
    "data = data[idx]\n",
    "yuspstrain = yuspstrain[idx]\n",
    "\n",
    "# Pourcentage de la base d'apprentissage non étiquettée\n",
    "percent_u = 50./100.\n",
    "# nombre de données non étiquettées\n",
    "U = int(percent_u * n)\n",
    "# nombre de données étiquettées\n",
    "L =  n-U\n",
    "\n",
    "# étiquettes connues\n",
    "labels = yuspstrain[:L]\n",
    "# étiquettes à prédire\n",
    "labpredire = yuspstrain[L:]\n",
    "\n",
    "print(\"Load data...\\n\")\n",
    "print(\"Data shape: %d * %d\" % data.shape)\n",
    "print(\"\\nLabeled num: %d\" % L)\n",
    "print(\"\\nUnlabeld num: %d\" % U)"
   ]
  },
  {
   "cell_type": "markdown",
   "metadata": {
    "deletable": true,
    "editable": true
   },
   "source": [
    "## Baseline - K plus proche voisins "
   ]
  },
  {
   "cell_type": "code",
   "execution_count": 153,
   "metadata": {
    "collapsed": false,
    "deletable": true,
    "editable": true
   },
   "outputs": [],
   "source": [
    "class KNN:\n",
    "    \n",
    "    def __init__(self, k):\n",
    "        self.k = k\n",
    "        \n",
    "    def fit(self, data, labels):\n",
    "        self.N = data.shape[0]\n",
    "        L = labels.shape[0]\n",
    "        \n",
    "        # calculate distance\n",
    "        self.W = cosine_distances(data[L:], data[:L])\n",
    "        self.labels = labels\n",
    "        \n",
    "    def predict(self):\n",
    "        \n",
    "        idx = np.argsort(self.W, axis = 1)[:, :self.k]\n",
    "        bag = self.labels[idx]\n",
    "        predict, _ = stats.mode(bag, axis = 1)\n",
    "        \n",
    "        return predict\n",
    "    \n",
    "    def score(self, labels):\n",
    "        return (self.predict()==labels.reshape((-1, 1))).mean()"
   ]
  },
  {
   "cell_type": "code",
   "execution_count": 157,
   "metadata": {
    "collapsed": false,
    "deletable": true,
    "editable": true
   },
   "outputs": [
    {
     "name": "stdout",
     "output_type": "stream",
     "text": [
      "The score of Diffusion by knn is 0.960000\n"
     ]
    }
   ],
   "source": [
    "M = KNN(10)\n",
    "M.fit(data,labels)\n",
    "print(\"The score of Diffusion by knn is %f\" % M.score(labpredire))"
   ]
  },
  {
   "cell_type": "markdown",
   "metadata": {
    "deletable": true,
    "editable": true
   },
   "source": [
    "## 1. Classification using simply threshold"
   ]
  },
  {
   "cell_type": "code",
   "execution_count": 158,
   "metadata": {
    "collapsed": true,
    "deletable": true,
    "editable": true
   },
   "outputs": [],
   "source": [
    "class DiffusionTRESH:\n",
    "    def __init__(self,percent_u):\n",
    "        self.percent_u = percent_u\n",
    "        \n",
    "    def predict(self, data):\n",
    "        n, m = data.shape\n",
    "        U = int(self.percent_u * n)\n",
    "        L = n-U\n",
    "        set_labels = np.unique(self.labels)\n",
    "        y = np.zeros((L,len(set_labels)))\n",
    "        label_to_ind = {}\n",
    "        for j in range(len(set_labels)):\n",
    "            label_to_ind[set_labels[j]] = j\n",
    "        for i in range(L):\n",
    "            y[i,label_to_ind[self.labels[i]]] = 1\n",
    "        fu = np.dot(np.dot(np.linalg.inv(self.D[L:,L:]-self.W[L:,L:]),self.W[L:,:L]),y)\n",
    "        prediction = np.ones(U)\n",
    "        # application de la procédure : Threshold pour la classification\n",
    "        for i in range(U):\n",
    "            prediction[i] = set_labels[np.argmax(fu[i])]\n",
    "        return prediction          \n",
    "            \n",
    "    def fit(self, data, labels):\n",
    "        self.labels = labels\n",
    "        n, m = data.shape\n",
    "        self.W = np.ones((n,n))\n",
    "        sigmas = np.array([5 for i in range(m)])\n",
    "        for i in range(n):\n",
    "            for j in range(i+1,n):\n",
    "                poids = np.exp(-np.sum((data[i,:]-data[j,:])**2/sigmas**2))\n",
    "                self.W[i,j] = poids\n",
    "                self.W[j,i] = poids\n",
    "        diago = np.sum(self.W,axis=1)\n",
    "        self.D = np.diag(diago)\n",
    "        \n",
    "    def score(self,data,labels):\n",
    "        return (self.predict(data)==labels).mean()\n"
   ]
  },
  {
   "cell_type": "code",
   "execution_count": 159,
   "metadata": {
    "collapsed": false,
    "deletable": true,
    "editable": true
   },
   "outputs": [
    {
     "name": "stdout",
     "output_type": "stream",
     "text": [
      "The score of Diffusion by threshold is 0.941667\n"
     ]
    }
   ],
   "source": [
    "M = DiffusionTRESH(percent_u)\n",
    "M.fit(data,labels)\n",
    "print(\"The score of Diffusion by threshold is %f\" % M.score(data,labpredire))"
   ]
  },
  {
   "cell_type": "markdown",
   "metadata": {
    "collapsed": false,
    "deletable": true,
    "editable": true
   },
   "source": [
    "\n",
    "## 2. Incorporation of Class Prior : CMN with weights fixed by advance"
   ]
  },
  {
   "cell_type": "code",
   "execution_count": 55,
   "metadata": {
    "collapsed": false,
    "deletable": true,
    "editable": true
   },
   "outputs": [],
   "source": [
    "class DiffusionCMN:\n",
    "    def __init__(self,percent_u):\n",
    "        self.percent_u = percent_u\n",
    "        \n",
    "    def predict(self,data):\n",
    "        (n,m) = np.shape(data)\n",
    "        U = int(self.percent_u * n)\n",
    "        L = n-U\n",
    "        set_labels = np.unique(self.labels)\n",
    "        y = np.zeros((L,len(set_labels)))\n",
    "        \n",
    "        label_to_ind = {}\n",
    "        for j in range(len(set_labels)):\n",
    "            label_to_ind[set_labels[j]] = j\n",
    "        for i in range(L):\n",
    "            y[i,label_to_ind[self.labels[i]]] = 1\n",
    "        fu = np.dot(np.dot(np.linalg.inv(self.D[L:,L:]-self.W[L:,L:]),self.W[L:,:L]),y)\n",
    "        prediction = np.ones(U)\n",
    "        # application de la procédure : Class Mass Normalization\n",
    "        desirable_proportions = []\n",
    "        for lab in set_labels:\n",
    "            desirable_proportions.append(np.sum(self.labels == lab)/ float(len(labels)))\n",
    "        for i in range(U):\n",
    "            CMN = []\n",
    "            for j in range(len(set_labels)):\n",
    "                CMN.append(desirable_proportions[j] * fu[i,j] / np.sum(fu[i]))\n",
    "            prediction[i] = set_labels[np.argmax(CMN)]\n",
    "        return prediction          \n",
    "            \n",
    "    def fit(self,data,labels):\n",
    "        (n,m) = np.shape(data)\n",
    "        self.labels = labels\n",
    "        self.W = np.ones((n,n))\n",
    "        sigmas = np.array([5 for i in range(m)])\n",
    "        for i in range(n):\n",
    "            for j in range(i+1,n):\n",
    "                poids = np.exp(-np.sum((data[i,:]-data[j,:])**2/sigmas**2))\n",
    "                self.W[i,j] = poids\n",
    "                self.W[j,i] = poids\n",
    "        diago = np.sum(self.W,axis=1)\n",
    "        self.D = np.diag(diago)\n",
    "        \n",
    "    def score(self,data,labels):\n",
    "        return (self.predict(data)==labels).mean()"
   ]
  },
  {
   "cell_type": "code",
   "execution_count": 156,
   "metadata": {
    "collapsed": false,
    "deletable": true,
    "editable": true
   },
   "outputs": [
    {
     "name": "stdout",
     "output_type": "stream",
     "text": [
      "The score of Diffusion by class prior is 0.938333\n"
     ]
    }
   ],
   "source": [
    "M = DiffusionCMN(percent_u)\n",
    "M.fit(data,labels)\n",
    "print(\"The score of Diffusion by class prior is %f\" % M.score(data,labpredire))"
   ]
  }
 ],
 "metadata": {
  "kernelspec": {
   "display_name": "Python 2",
   "language": "python",
   "name": "python2"
  },
  "language_info": {
   "codemirror_mode": {
    "name": "ipython",
    "version": 2
   },
   "file_extension": ".py",
   "mimetype": "text/x-python",
   "name": "python",
   "nbconvert_exporter": "python",
   "pygments_lexer": "ipython2",
   "version": "2.7.13"
  }
 },
 "nbformat": 4,
 "nbformat_minor": 1
}
