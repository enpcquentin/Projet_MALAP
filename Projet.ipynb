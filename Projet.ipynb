{
 "cells": [
  {
   "cell_type": "markdown",
   "metadata": {},
   "source": [
    "# Projet MALAP\n",
    "\n",
    "## Réalisé par Tong Zhao, Quentin Duchemin et Pierre Boyeau"
   ]
  },
  {
   "cell_type": "code",
   "execution_count": 45,
   "metadata": {
    "collapsed": true
   },
   "outputs": [],
   "source": [
    "import  numpy as np\n",
    "import matplotlib.pyplot as plt\n",
    "from tools import *\n",
    "from sklearn.metrics.pairwise import cosine_distances, euclidean_distances\n",
    "from scipy import stats\n",
    "from sklearn.svm import SVC"
   ]
  },
  {
   "cell_type": "code",
   "execution_count": 46,
   "metadata": {
    "collapsed": true
   },
   "outputs": [],
   "source": [
    "def load_usps(filename):\n",
    "    with open(filename,\"r\") as f:\n",
    "        f.readline()\n",
    "        data =[ [float(x) for x in l.split()] for l in f if len(l.split())>2]\n",
    "    tmp = np.array(data)\n",
    "    return tmp[:,1:],tmp[:,0].astype(int)\n",
    "\n",
    "def get_usps(l,datax,datay):\n",
    "    \"\"\" l : liste des chiffres a extraire\"\"\"\n",
    "    if type(l)!=list:\n",
    "        resx = datax[datay==l,:]\n",
    "        resy = datay[datay==l]\n",
    "        return resx,resy\n",
    "    tmp =  list( zip(*[get_usps(i,datax,datay) for i in l]))\n",
    "    tmpx,tmpy = np.vstack(tmp[0]),np.hstack(tmp[1])\n",
    "    idx = np.random.permutation(range(len(tmpy)))\n",
    "    return tmpx[idx,:],tmpy[idx]\n",
    "\n",
    "def show_usps(data):\n",
    "    plt.imshow(data.reshape((16,16)),interpolation=\"nearest\",cmap=\"gray\")"
   ]
  },
  {
   "cell_type": "markdown",
   "metadata": {},
   "source": [
    "## Data processing"
   ]
  },
  {
   "cell_type": "code",
   "execution_count": 47,
   "metadata": {},
   "outputs": [
    {
     "name": "stdout",
     "output_type": "stream",
     "text": [
      "Load data...\n",
      "\n",
      "Data shape: 1800 * 256\n",
      "\n",
      "Labeled num: 900\n",
      "\n",
      "Unlabeld num: 900\n"
     ]
    }
   ],
   "source": [
    "# Définition de la base d'apprentissage\n",
    "xuspstrain,yuspstrain = load_usps(\"datas/usps/USPS_train.txt\")\n",
    "xuspstrain,yuspstrain = get_usps([0, 1, 5, 8, 3],xuspstrain,yuspstrain)\n",
    "data = xuspstrain[:1800,:]\n",
    "yuspstrain = yuspstrain[:1800]\n",
    "(n,m) = np.shape(data)\n",
    "\n",
    "# shuffle data\n",
    "idx = np.random.permutation(n)\n",
    "data = data[idx]\n",
    "yuspstrain = yuspstrain[idx]\n",
    "\n",
    "# Pourcentage de la base d'apprentissage non étiquettée\n",
    "percent_u = 50./100.\n",
    "# nombre de données non étiquettées\n",
    "U = int(percent_u * n)\n",
    "# nombre de données étiquettées\n",
    "L =  n-U\n",
    "\n",
    "# étiquettes connues\n",
    "labels = yuspstrain[:L]\n",
    "# étiquettes à prédire\n",
    "labpredire = yuspstrain[L:]\n",
    "\n",
    "print(\"Load data...\\n\")\n",
    "print(\"Data shape: %d * %d\" % data.shape)\n",
    "print(\"\\nLabeled num: %d\" % L)\n",
    "print(\"\\nUnlabeld num: %d\" % U)"
   ]
  },
  {
   "cell_type": "markdown",
   "metadata": {},
   "source": [
    "## Baseline 1 - K plus proche voisins "
   ]
  },
  {
   "cell_type": "code",
   "execution_count": 48,
   "metadata": {
    "collapsed": true
   },
   "outputs": [],
   "source": [
    "class KNN:\n",
    "    \n",
    "    def __init__(self, k):\n",
    "        self.k = k\n",
    "        \n",
    "    def fit(self, data, labels):\n",
    "        self.N = data.shape[0]\n",
    "        L = labels.shape[0]\n",
    "        \n",
    "        # calculate distance\n",
    "        self.W = cosine_distances(data[L:], data[:L])\n",
    "        self.labels = labels\n",
    "        \n",
    "    def predict(self):\n",
    "        \n",
    "        idx = np.argsort(self.W, axis = 1)[:, :self.k]\n",
    "        bag = self.labels[idx]\n",
    "        predict, _ = stats.mode(bag, axis = 1)\n",
    "        \n",
    "        return predict.reshape((-1))\n",
    "    \n",
    "    def score(self, labels):\n",
    "        return (self.predict()==labels).mean()"
   ]
  },
  {
   "cell_type": "code",
   "execution_count": 49,
   "metadata": {},
   "outputs": [
    {
     "name": "stdout",
     "output_type": "stream",
     "text": [
      "The score of Diffusion by knn is 0.937778\n"
     ]
    }
   ],
   "source": [
    "M = KNN(10)\n",
    "M.fit(data,labels)\n",
    "print(\"The score of Diffusion by knn is %f\" % M.score(labpredire))"
   ]
  },
  {
   "cell_type": "markdown",
   "metadata": {},
   "source": [
    "## Baseline 2 - SVM"
   ]
  },
  {
   "cell_type": "code",
   "execution_count": 50,
   "metadata": {},
   "outputs": [
    {
     "name": "stdout",
     "output_type": "stream",
     "text": [
      "The score of SVM is 0.964444\n"
     ]
    }
   ],
   "source": [
    "clf = SVC(C=1.5)\n",
    "clf.fit(data[:U], labels)\n",
    "print(\"The score of SVM is %f\" % (clf.predict(data[U:]) == labpredire).mean())"
   ]
  },
  {
   "cell_type": "markdown",
   "metadata": {},
   "source": [
    "## 1. Classification using simply threshold"
   ]
  },
  {
   "cell_type": "markdown",
   "metadata": {},
   "source": [
    "$$ f_u = (D_{uu} - W_{uu})^{-1} W_{ul} f_l$$"
   ]
  },
  {
   "cell_type": "code",
   "execution_count": 51,
   "metadata": {
    "collapsed": true
   },
   "outputs": [],
   "source": [
    "class DiffusionTRESH:\n",
    "        \n",
    "    def predict(self):\n",
    "        \n",
    "        # record label\n",
    "        set_labels = np.unique(self.labels)\n",
    "\n",
    "        y = (np.tile(self.labels.reshape((-1, 1)), (1, set_labels.shape[0])) == set_labels).astype(int)\n",
    "        fu = np.dot(np.dot(np.linalg.inv(self.D[self.L:,self.L:] - self.W[self.L:,self.L:]),self.W[self.L:,:self.L]),y)\n",
    "        prediction = set_labels[np.argmax(fu, axis = 1)]\n",
    "        return prediction          \n",
    "            \n",
    "    def fit(self, data, labels):\n",
    "        self.labels = labels\n",
    "        self.L = labels.shape[0]\n",
    "        sigmas = np.array([2.5 for i in range(m)])\n",
    "        \n",
    "        # calculate W\n",
    "        data_n = data / sigmas\n",
    "        self.W = np.exp(-euclidean_distances(data_n)**2)\n",
    "        \n",
    "        # calculate D\n",
    "        diago = np.sum(self.W,axis=1)\n",
    "        self.D = np.diag(diago)\n",
    "        \n",
    "        \n",
    "    def score(self, labels):\n",
    "        return (self.predict()==labels).mean()\n"
   ]
  },
  {
   "cell_type": "code",
   "execution_count": 52,
   "metadata": {},
   "outputs": [
    {
     "name": "stdout",
     "output_type": "stream",
     "text": [
      "The score of Diffusion by threshold is 0.960000\n"
     ]
    }
   ],
   "source": [
    "M = DiffusionTRESH()\n",
    "M.fit(data,labels)\n",
    "print(\"The score of Diffusion by threshold is %f\" % M.score(labpredire))"
   ]
  },
  {
   "cell_type": "markdown",
   "metadata": {},
   "source": [
    "\n",
    "## 2. Incorporation of Class Prior : CMN with weights fixed by advance"
   ]
  },
  {
   "cell_type": "code",
   "execution_count": 53,
   "metadata": {
    "collapsed": true
   },
   "outputs": [],
   "source": [
    "class DiffusionCMN:\n",
    "\n",
    "    def predict(self):\n",
    "        \n",
    "        # record label\n",
    "        set_labels = np.unique(self.labels)\n",
    "        \n",
    "        # calculate fu\n",
    "        y = (np.tile(self.labels.reshape((-1, 1)), (1, set_labels.shape[0])) == set_labels).astype(int)\n",
    "        desirable_proportions = y.sum(0) + 1\n",
    "        fu = np.dot(np.dot(np.linalg.inv(self.D[self.L:,self.L:]-self.W[self.L:,self.L:]),self.W[self.L:,:self.L]),y)\n",
    "        fu = fu * (desirable_proportions / fu.sum(0))\n",
    "\n",
    "        prediction = set_labels[np.argmax(fu, axis = 1)]\n",
    "        return prediction          \n",
    "            \n",
    "    def fit(self,data,labels):\n",
    "        self.labels = labels\n",
    "        self.L = labels.shape[0]\n",
    "        sigmas = np.array([2.5 for i in range(m)])\n",
    "        \n",
    "        # calculate W\n",
    "        data_n = data / sigmas\n",
    "        self.W = np.exp(-euclidean_distances(data_n)**2)\n",
    "        \n",
    "        # calculate D\n",
    "        diago = np.sum(self.W,axis=1)\n",
    "        self.D = np.diag(diago)\n",
    "        \n",
    "    def score(self,labels):\n",
    "        return (self.predict()==labels).mean()"
   ]
  },
  {
   "cell_type": "code",
   "execution_count": 54,
   "metadata": {},
   "outputs": [
    {
     "name": "stdout",
     "output_type": "stream",
     "text": [
      "The score of Diffusion by class prior is 0.962222\n"
     ]
    }
   ],
   "source": [
    "M = DiffusionCMN()\n",
    "M.fit(data,labels)\n",
    "print(\"The score of Diffusion by class prior is %f\" % M.score(labpredire))"
   ]
  },
  {
   "cell_type": "markdown",
   "metadata": {},
   "source": [
    "## 3. Incorporating External Classifiers - SVM"
   ]
  },
  {
   "cell_type": "code",
   "execution_count": 55,
   "metadata": {
    "collapsed": true
   },
   "outputs": [],
   "source": [
    "class DiffusionSVM:\n",
    "\n",
    "    def predict(self):\n",
    "        \n",
    "        # record label\n",
    "        set_labels = np.unique(self.labels)\n",
    "        \n",
    "        # calculate fu\n",
    "        y = (np.tile(self.labels.reshape((-1, 1)), (1, set_labels.shape[0])) == set_labels).astype(int)\n",
    "        fu = np.dot(np.dot(np.linalg.inv(self.D[self.L:,self.L:]-self.W[self.L:,self.L:]),self.W[self.L:,:self.L]),y)\n",
    "        fu = fu * self.hu\n",
    "        \n",
    "        prediction = set_labels[np.argmax(fu, axis = 1)]\n",
    "        return prediction          \n",
    "            \n",
    "    def fit(self,data,labels):\n",
    "        self.labels = labels\n",
    "        self.L = labels.shape[0]\n",
    "        sigmas = np.array([2.5 for i in range(m)])\n",
    "        \n",
    "        # calculate W\n",
    "        data_n = data / sigmas\n",
    "        self.W = np.exp(-euclidean_distances(data_n)**2)\n",
    "        \n",
    "        # calculate D\n",
    "        diago = np.sum(self.W,axis=1)\n",
    "        self.D = np.diag(diago)\n",
    "        \n",
    "        # train svm\n",
    "        clf = SVC(C=2, probability = True)\n",
    "        clf.fit(data[:self.L], labels)\n",
    "        self.hu = clf.predict_proba(data[L:])\n",
    "        \n",
    "    def score(self,labels):\n",
    "        return (self.predict()==labels).mean()"
   ]
  },
  {
   "cell_type": "code",
   "execution_count": 56,
   "metadata": {},
   "outputs": [
    {
     "name": "stdout",
     "output_type": "stream",
     "text": [
      "The score of Diffusion by class prior is 0.970000\n"
     ]
    }
   ],
   "source": [
    "M = DiffusionSVM()\n",
    "M.fit(data,labels)\n",
    "print(\"The score of Diffusion by class prior is %f\" % M.score(labpredire))"
   ]
  },
  {
   "cell_type": "markdown",
   "metadata": {
    "collapsed": true
   },
   "source": [
    "# 4. Learning W"
   ]
  },
  {
   "cell_type": "code",
   "execution_count": 64,
   "metadata": {
    "collapsed": true
   },
   "outputs": [],
   "source": [
    "class Diffusion_learn:\n",
    "    def __init__(self, eps=1):\n",
    "        self.eps = eps\n",
    "\n",
    "        self.data = None\n",
    "        self.U = None\n",
    "        self.L = None\n",
    "        self.W = None\n",
    "        self.D = None\n",
    "        self.labels = None\n",
    "        self.Umat = None\n",
    "\n",
    "    def oracle(self, sgm, compute_grad=True):\n",
    "        \"\"\"To be used, self.W, self.D and self.labels must be properly defined\n",
    "\n",
    "        gradfu defined such as its elements are defined by\n",
    "        a_{ij} = \\frac{\\part f(i)}{\\part \\sigma_j}\n",
    "        \n",
    "        \n",
    "        \n",
    "        A GERER : MULTIDIMENTIONNALITE\"\"\"\n",
    "        data_sgm = self.data / sgm\n",
    "        self.W = np.exp(-euclidean_distances(data_sgm) ** 2)\n",
    "\n",
    "        # calculate D\n",
    "        self.D = np.diag(np.sum(self.W, axis=1))\n",
    "\n",
    "        # Computing estimation of H(sgm)\n",
    "        set_labels = np.unique(self.labels)\n",
    "        y = (np.tile(self.labels.reshape((-1, 1)), (1, set_labels.shape[0])) == set_labels).astype(int)\n",
    "\n",
    "        P = np.dot(np.linalg.inv(self.D), self.W)\n",
    "        fu = np.dot(np.dot(np.linalg.inv(np.eye(self.U) - P[self.L:, self.L:]), P[self.L:, :self.L]), y)\n",
    "\n",
    "        if compute_grad:\n",
    "            Psmooth = self.eps * self.Umat + (1 - self.eps) * P\n",
    "            firstmat = np.linalg.inv(np.eye(self.U) - Psmooth[self.L:, self.L:])\n",
    "            gradfu = np.zeros((self.U, self.d))\n",
    "            for ind in range(self.d):\n",
    "                # objective = Computing derivative of Psmooth\n",
    "                Xid = np.tile(self.data[:, ind], (self.U + self.L, 1))  # Attention sens\n",
    "                partw = 2 * (self.W * ((Xid - Xid.T) ** 2)) / (sgm[ind] ** 3)\n",
    "                sum_w = np.tile(np.sum(self.W, axis=1), (self.U + self.L, 1)).T\n",
    "                sum_partw = np.tile(np.sum(partw, axis=1), (self.U + self.L, 1)).T\n",
    "\n",
    "                partPsmooth = (partw - P * sum_partw) / (sum_w)\n",
    "                secondmat = np.dot(partPsmooth[self.L:, self.L:], fu) + np.dot(partPsmooth[self.L:, :self.L], y)\n",
    "\n",
    "                # Computing value of gradfu[ind]\n",
    "                gradfu[:, ind] = np.dot(firstmat, secondmat)\n",
    "\n",
    "            return fu, gradfu\n",
    "\n",
    "        else:\n",
    "            return fu\n",
    "\n",
    "    def H(self, sgm):\n",
    "        fu = self.oracle(sgm, compute_grad=False)\n",
    "        res = -np.multiply(fu, np.log(fu)) - np.multiply(1 - fu, np.log(1 - fu))\n",
    "        return (1 / self.U) * np.sum(res)\n",
    "\n",
    "    def gradH(self, sgm):\n",
    "        fu, gradf = self.oracle(sgm)\n",
    "\n",
    "        partial = np.divide(1 - fu, fu)\n",
    "        # Je fais une boucle pour l'instant car peur de faire une erreur. A REMPLACER\n",
    "        res = np.zeros((self.d, 1))\n",
    "        for ind in range(self.d):\n",
    "            res[ind] = (1 / self.U) * np.sum(np.multiply(partial, gradf[:, ind]))\n",
    "        return res\n",
    "\n",
    "    def fit(self, data, labels):\n",
    "        self.labels = labels\n",
    "        self.L = labels.shape[0]\n",
    "        self.U = data.shape[0] - self.L\n",
    "        self.d = data.shape[1]\n",
    "        self.data = data.copy()\n",
    "\n",
    "        # Computing Umat (necessary for learning W)\n",
    "        self.Umat = (1 / (self.L + self.U)) * np.ones((self.L + self.U))\n",
    "\n",
    "        pass\n",
    "\n",
    "    def predict(self):\n",
    "        \"\"\"A FAIRE\"\"\"\n",
    "        # Learning\n",
    "        pass"
   ]
  },
  {
   "cell_type": "code",
   "execution_count": 65,
   "metadata": {},
   "outputs": [
    {
     "data": {
      "text/plain": [
       "(1800, 256)"
      ]
     },
     "execution_count": 65,
     "metadata": {},
     "output_type": "execute_result"
    }
   ],
   "source": [
    "np.shape(data)"
   ]
  },
  {
   "cell_type": "code",
   "execution_count": 66,
   "metadata": {},
   "outputs": [
    {
     "data": {
      "text/plain": [
       "900"
      ]
     },
     "execution_count": 66,
     "metadata": {},
     "output_type": "execute_result"
    }
   ],
   "source": [
    "np.shape(data)[0] - L"
   ]
  },
  {
   "cell_type": "code",
   "execution_count": null,
   "metadata": {
    "collapsed": true
   },
   "outputs": [],
   "source": []
  }
 ],
 "metadata": {
  "kernelspec": {
   "display_name": "Python 3",
   "language": "python",
   "name": "python3"
  },
  "language_info": {
   "codemirror_mode": {
    "name": "ipython",
    "version": 3
   },
   "file_extension": ".py",
   "mimetype": "text/x-python",
   "name": "python",
   "nbconvert_exporter": "python",
   "pygments_lexer": "ipython3",
   "version": "3.6.1"
  }
 },
 "nbformat": 4,
 "nbformat_minor": 1
}
