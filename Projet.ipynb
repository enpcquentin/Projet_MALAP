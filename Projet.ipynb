{
 "cells": [
  {
   "cell_type": "markdown",
   "metadata": {
    "deletable": true,
    "editable": true
   },
   "source": [
    "# Projet MALAP\n",
    "\n",
    "## Réalisé par Tong Zhao, Quentin Duchemin et Pierre Boyeau"
   ]
  },
  {
   "cell_type": "code",
   "execution_count": 2,
   "metadata": {
    "collapsed": true,
    "deletable": true,
    "editable": true
   },
   "outputs": [],
   "source": [
    "import  numpy as np\n",
    "import matplotlib.pyplot as plt\n",
    "from tools import *\n",
    "from sklearn.metrics.pairwise import cosine_distances, euclidean_distances\n",
    "from scipy import stats\n",
    "from sklearn.svm import SVC\n",
    "from mnist import MNIST"
   ]
  },
  {
   "cell_type": "code",
   "execution_count": 5,
   "metadata": {
    "collapsed": true,
    "deletable": true,
    "editable": true
   },
   "outputs": [],
   "source": [
    "def load_usps(filename):\n",
    "    with open(filename,\"r\") as f:\n",
    "        f.readline()\n",
    "        data =[ [float(x) for x in l.split()] for l in f if len(l.split())>2]\n",
    "    tmp = np.array(data)\n",
    "    return tmp[:,1:],tmp[:,0].astype(int)\n",
    "\n",
    "def get_usps(l,datax,datay):\n",
    "    \"\"\" l : liste des chiffres a extraire\"\"\"\n",
    "    if type(l)!=list:\n",
    "        resx = datax[datay==l,:]\n",
    "        resy = datay[datay==l]\n",
    "        return resx,resy\n",
    "    tmp =  list( zip(*[get_usps(i,datax,datay) for i in l]))\n",
    "    tmpx,tmpy = np.vstack(tmp[0]),np.hstack(tmp[1])\n",
    "    idx = np.random.permutation(range(len(tmpy)))\n",
    "    return tmpx[idx,:],tmpy[idx]\n",
    "\n",
    "def show_usps(data):\n",
    "    plt.imshow(data.reshape((16,16)),interpolation=\"nearest\",cmap=\"gray\")\n",
    "    \n",
    "xusps,yusps = load_usps(\"datas/usps/USPS_train.txt\")"
   ]
  },
  {
   "cell_type": "markdown",
   "metadata": {
    "deletable": true,
    "editable": true
   },
   "source": [
    "## Data processing"
   ]
  },
  {
   "cell_type": "code",
   "execution_count": 3,
   "metadata": {
    "collapsed": true,
    "deletable": true,
    "editable": true
   },
   "outputs": [],
   "source": [
    "def analyse_data(y, L):\n",
    "    label_L, count_L = np.unique(y[:L], return_counts=True)\n",
    "    label_U, count_U = np.unique(y[L:], return_counts=True)\n",
    "    \n",
    "    \n",
    "    if np.any(label_L != label_U):\n",
    "        print(\"Test data has unknown labels. Please re-select again.\")\n",
    "        return\n",
    "    \n",
    "    colors = np.random.rand(len(label_L), 3,1)\n",
    "    plt.figure(figsize=(6, 6))\n",
    "    \n",
    "    for i, label in enumerate(label_L):\n",
    "        plt.bar(1.5, count_L[i], width=0.3, bottom=np.sum(count_L[:i]), alpha=0.8, color=colors[i], label = str(label))\n",
    "        plt.bar(3, count_U[i], width=0.3, bottom=np.sum(count_U[:i]), alpha=0.8, color=colors[i])\n",
    "    \n",
    "    plt.title(\"The paritition of dataset\")\n",
    "    plt.xticks([1.5, 3], ['labeled', 'unlabeled'])\n",
    "    plt.grid()\n",
    "    plt.legend()\n",
    "    plt.show()"
   ]
  },
  {
   "cell_type": "markdown",
   "metadata": {
    "deletable": true,
    "editable": true
   },
   "source": [
    "### USPS dataset"
   ]
  },
  {
   "cell_type": "code",
   "execution_count": 74,
   "metadata": {
    "collapsed": false,
    "deletable": true,
    "editable": true
   },
   "outputs": [
    {
     "name": "stdout",
     "output_type": "stream",
     "text": [
      "Load USPS data...\n",
      "\n",
      "Data shape: 1742 * 256\n",
      "\n",
      "Labeled num: 88\n",
      "\n",
      "Unlabeld num: 1654\n"
     ]
    },
    {
     "data": {
      "image/png": "[encoded data removed]",
      "text/plain": [
       "<matplotlib.figure.Figure at 0x113f5a610>"
      ]
     },
     "metadata": {},
     "output_type": "display_data"
    }
   ],
   "source": [
    "# Définition de la base d'apprentissage\n",
    "xuspstrain,yuspstrain = get_usps([5, 8, 9],xusps,yusps)\n",
    "data = xuspstrain\n",
    "(n,m) = np.shape(data)\n",
    "\n",
    "# shuffle data\n",
    "idx = np.random.permutation(n)\n",
    "data = data[idx]\n",
    "yuspstrain = yuspstrain[idx]\n",
    "\n",
    "# Pourcentage de la base d'apprentissage non étiquettée\n",
    "percent_u = 95./100.\n",
    "# nombre de données non étiquettées\n",
    "U = int(percent_u * n)\n",
    "# nombre de données étiquettées\n",
    "L =  n-U\n",
    "\n",
    "# étiquettes connues\n",
    "labels = yuspstrain[:L]\n",
    "# étiquettes à prédire\n",
    "labpredire = yuspstrain[L:]\n",
    "\n",
    "print(\"Load USPS data...\\n\")\n",
    "print(\"Data shape: %d * %d\" % data.shape)\n",
    "print(\"\\nLabeled num: %d\" % L)\n",
    "print(\"\\nUnlabeld num: %d\" % U)\n",
    "analyse_data(yuspstrain, L)"
   ]
  },
  {
   "cell_type": "markdown",
   "metadata": {
    "deletable": true,
    "editable": true
   },
   "source": [
    "### Mnist"
   ]
  },
  {
   "cell_type": "code",
   "execution_count": 4,
   "metadata": {
    "collapsed": false,
    "deletable": true,
    "editable": true
   },
   "outputs": [],
   "source": [
    "def select_data(a, x, y):\n",
    "    idx = np.in1d(y, a)\n",
    "    return x[idx], y[idx]"
   ]
  },
  {
   "cell_type": "code",
   "execution_count": 5,
   "metadata": {
    "collapsed": false,
    "deletable": true,
    "editable": true
   },
   "outputs": [],
   "source": [
    "mndata = MNIST('./datas/Mnist/')\n",
    "xmnist, ymnist = mndata.load_training()\n",
    "xmnist, ymnist = np.array(xmnist), np.array(ymnist)"
   ]
  },
  {
   "cell_type": "code",
   "execution_count": 7,
   "metadata": {
    "collapsed": false,
    "deletable": true,
    "editable": true
   },
   "outputs": [
    {
     "name": "stdout",
     "output_type": "stream",
     "text": [
      "Load Mnist data...\n",
      "\n",
      "Data shape: 11973 * 784\n",
      "\n",
      "Labeled num: 599\n",
      "\n",
      "Unlabeld num: 11374\n"
     ]
    },
    {
     "data": {
      "image/png": "[encoded data removed]",
      "text/plain": [
       "<matplotlib.figure.Figure at 0x11b17f390>"
      ]
     },
     "metadata": {},
     "output_type": "display_data"
    }
   ],
   "source": [
    "xmnisttrain, ymnisttrain = select_data([3, 4], xmnist, ymnist)\n",
    "data = xmnisttrain\n",
    "(n,m) = np.shape(data)\n",
    "\n",
    "# shuffle data\n",
    "idx = np.random.permutation(n)\n",
    "data = data[idx]\n",
    "ymnisttrain = ymnisttrain[idx]\n",
    "\n",
    "# Pourcentage de la base d'apprentissage non étiquettée\n",
    "percent_u = 95./100.\n",
    "# nombre de données non étiquettées\n",
    "U = int(percent_u * n)\n",
    "# nombre de données étiquettées\n",
    "L =  n-U\n",
    "\n",
    "# étiquettes connues\n",
    "labels = ymnisttrain[:L]\n",
    "# étiquettes à prédire\n",
    "labpredire = ymnisttrain[L:]\n",
    "\n",
    "print(\"Load Mnist data...\\n\")\n",
    "print(\"Data shape: %d * %d\" % data.shape)\n",
    "print(\"\\nLabeled num: %d\" % L)\n",
    "print(\"\\nUnlabeld num: %d\" % U)\n",
    "analyse_data(ymnisttrain, L)"
   ]
  },
  {
   "cell_type": "markdown",
   "metadata": {
    "deletable": true,
    "editable": true
   },
   "source": [
    "## Baseline 1 - K plus proche voisins "
   ]
  },
  {
   "cell_type": "code",
   "execution_count": 8,
   "metadata": {
    "collapsed": true,
    "deletable": true,
    "editable": true
   },
   "outputs": [],
   "source": [
    "class KNN:\n",
    "    \n",
    "    def __init__(self, k):\n",
    "        self.k = k\n",
    "        \n",
    "    def fit(self, data, labels):\n",
    "        self.N = data.shape[0]\n",
    "        L = labels.shape[0]\n",
    "        \n",
    "        # calculate distance\n",
    "        self.W = cosine_distances(data[L:], data[:L])\n",
    "        self.labels = labels\n",
    "        \n",
    "    def predict(self):\n",
    "        \n",
    "        idx = np.argsort(self.W, axis = 1)[:, :self.k]\n",
    "        bag = self.labels[idx]\n",
    "        predict, _ = stats.mode(bag, axis = 1)\n",
    "        \n",
    "        return predict.reshape((-1))\n",
    "    \n",
    "    def score(self, labels):\n",
    "        return (self.predict()==labels).mean()"
   ]
  },
  {
   "cell_type": "code",
   "execution_count": 9,
   "metadata": {
    "collapsed": false,
    "deletable": true,
    "editable": true
   },
   "outputs": [
    {
     "name": "stdout",
     "output_type": "stream",
     "text": [
      "The score of Diffusion by knn is 0.996307\n"
     ]
    }
   ],
   "source": [
    "M = KNN(10)\n",
    "M.fit(data,labels)\n",
    "print(\"The score of Diffusion by knn is %f\" % M.score(labpredire))"
   ]
  },
  {
   "cell_type": "code",
   "execution_count": 82,
   "metadata": {
    "collapsed": true,
    "deletable": true,
    "editable": true
   },
   "outputs": [],
   "source": [
    "def test_knn(data, labels, labpredire):\n",
    "    lk = range(2, 30, 2)\n",
    "    lscore = []\n",
    "    \n",
    "    for k in lk:\n",
    "        M = KNN(k)\n",
    "        M.fit(data, labels)\n",
    "        lscore.append(M.score(labpredire))\n",
    "        \n",
    "    print(\"The best k: %d\" % lk[np.argmax(np.array(lscore))])\n",
    "    print(\"The best score: %f\" % np.max(np.array(lscore)))\n",
    "    plt.figure(figsize=(6, 6))\n",
    "    plt.plot(lk, lscore)\n",
    "    plt.title('The knn score influenced by k')\n",
    "    plt.xlabel('k')\n",
    "    plt.ylabel('accuracy')\n",
    "    plt.grid()\n",
    "    plt.show()"
   ]
  },
  {
   "cell_type": "code",
   "execution_count": 81,
   "metadata": {
    "collapsed": false,
    "deletable": true,
    "editable": true
   },
   "outputs": [
    {
     "name": "stdout",
     "output_type": "stream",
     "text": [
      "The best result: 8\n"
     ]
    },
    {
     "data": {
      "image/png": "[encoded data removed]",
      "text/plain": [
       "<matplotlib.figure.Figure at 0x113f99f90>"
      ]
     },
     "metadata": {},
     "output_type": "display_data"
    }
   ],
   "source": [
    "test_knn(data, labels, labpredire)"
   ]
  },
  {
   "cell_type": "markdown",
   "metadata": {
    "deletable": true,
    "editable": true
   },
   "source": [
    "## Baseline 2 - SVM"
   ]
  },
  {
   "cell_type": "code",
   "execution_count": 11,
   "metadata": {
    "collapsed": false,
    "deletable": true,
    "editable": true
   },
   "outputs": [
    {
     "name": "stdout",
     "output_type": "stream",
     "text": [
      "(11374,)\n",
      "(11374,)\n",
      "The score of SVM is 0.509671\n"
     ]
    }
   ],
   "source": [
    "clf = SVC(C=1.5)\n",
    "clf.fit(data[:L], labels)\n",
    "print(\"The score of SVM is %f\" % (clf.predict(data[L:]) == labpredire).mean())"
   ]
  },
  {
   "cell_type": "code",
   "execution_count": 13,
   "metadata": {
    "collapsed": true,
    "deletable": true,
    "editable": true
   },
   "outputs": [],
   "source": [
    "def test_svm(data, y, L):\n",
    "    lc = np.arange(1, 2, 0.3)\n",
    "    lscore = []\n",
    "    \n",
    "    for c in lc:\n",
    "        print c\n",
    "        clf = SVC(C=c)\n",
    "        clf.fit(data[:L], y[:L])\n",
    "        lscore.append((clf.predict(data[L:]) == y[L:].reshape((-1))).mean())\n",
    "\n",
    "    print(\"The best c: %f\" % lc[np.argmax(np.array(lscore))])\n",
    "    print(\"The best score: %f\" % np.max(np.array(lscore)))\n",
    "    plt.figure(figsize=(6, 6))\n",
    "    plt.plot(lc, lscore)\n",
    "    plt.title('The SVM score influenced by c')\n",
    "    plt.xlabel('c')\n",
    "    plt.ylabel('accuracy')\n",
    "    plt.grid()\n",
    "    plt.show()"
   ]
  },
  {
   "cell_type": "code",
   "execution_count": 14,
   "metadata": {
    "collapsed": false,
    "deletable": true,
    "editable": true
   },
   "outputs": [
    {
     "name": "stdout",
     "output_type": "stream",
     "text": [
      "1.0\n",
      "1.3\n",
      "1.6\n",
      "1.9\n",
      "The best c: 1.000000\n",
      "The best score: 0.509671\n"
     ]
    },
    {
     "data": {
      "image/png": "[encoded data removed]",
      "text/plain": [
       "<matplotlib.figure.Figure at 0x13ebac550>"
      ]
     },
     "metadata": {},
     "output_type": "display_data"
    }
   ],
   "source": [
    "test_svm(data, ymnisttrain, L)"
   ]
  },
  {
   "cell_type": "markdown",
   "metadata": {
    "deletable": true,
    "editable": true
   },
   "source": [
    "## 1. Classification using simply threshold"
   ]
  },
  {
   "cell_type": "markdown",
   "metadata": {
    "deletable": true,
    "editable": true
   },
   "source": [
    "$$ f_u = (D_{uu} - W_{uu})^{-1} W_{ul} f_l$$"
   ]
  },
  {
   "cell_type": "code",
   "execution_count": 15,
   "metadata": {
    "collapsed": true,
    "deletable": true,
    "editable": true
   },
   "outputs": [],
   "source": [
    "class DiffusionTRESH:\n",
    "        \n",
    "    def predict(self):\n",
    "        \n",
    "        # record label\n",
    "        set_labels = np.unique(self.labels)\n",
    "\n",
    "        y = (np.tile(self.labels.reshape((-1, 1)), (1, set_labels.shape[0])) == set_labels).astype(int)\n",
    "        fu = np.dot(np.dot(np.linalg.inv(self.D[self.L:,self.L:] - self.W[self.L:,self.L:]),self.W[self.L:,:self.L]),y)\n",
    "        prediction = set_labels[np.argmax(fu, axis = 1)]\n",
    "        return prediction          \n",
    "            \n",
    "    def fit(self, data, labels):\n",
    "        self.labels = labels\n",
    "        self.L = labels.shape[0]\n",
    "        sigmas = np.array([2.5 for i in range(m)])\n",
    "        \n",
    "        # calculate W\n",
    "        data_n = data / sigmas\n",
    "        self.W = np.exp(-euclidean_distances(data_n)**2)\n",
    "        \n",
    "        # calculate D\n",
    "        diago = np.sum(self.W,axis=1)\n",
    "        self.D = np.diag(diago)\n",
    "        \n",
    "        \n",
    "    def score(self, labels):\n",
    "        return (self.predict()==labels).mean()\n"
   ]
  },
  {
   "cell_type": "code",
   "execution_count": null,
   "metadata": {
    "collapsed": false,
    "deletable": true,
    "editable": true
   },
   "outputs": [],
   "source": [
    "M = DiffusionTRESH()\n",
    "M.fit(data,labels)\n",
    "print(\"The score of Diffusion by threshold is %f\" % M.score(labpredire))"
   ]
  },
  {
   "cell_type": "markdown",
   "metadata": {
    "deletable": true,
    "editable": true
   },
   "source": [
    "\n",
    "## 2. Incorporation of Class Prior : CMN with weights fixed by advance"
   ]
  },
  {
   "cell_type": "code",
   "execution_count": 73,
   "metadata": {
    "collapsed": true,
    "deletable": true,
    "editable": true
   },
   "outputs": [],
   "source": [
    "class DiffusionCMN:\n",
    "\n",
    "    def predict(self):\n",
    "        \n",
    "        # record label\n",
    "        set_labels = np.unique(self.labels)\n",
    "        \n",
    "        # calculate fu\n",
    "        y = (np.tile(self.labels.reshape((-1, 1)), (1, set_labels.shape[0])) == set_labels).astype(int)\n",
    "        desirable_proportions = y.sum(0) + 1\n",
    "        fu = np.dot(np.dot(np.linalg.inv(self.D[self.L:,self.L:]-self.W[self.L:,self.L:]),self.W[self.L:,:self.L]),y)\n",
    "        fu = fu * (desirable_proportions / fu.sum(0))\n",
    "\n",
    "        prediction = set_labels[np.argmax(fu, axis = 1)]\n",
    "        return prediction          \n",
    "            \n",
    "    def fit(self,data,labels):\n",
    "        self.labels = labels\n",
    "        self.L = labels.shape[0]\n",
    "        sigmas = np.array([2.5 for i in range(m)])\n",
    "        \n",
    "        # calculate W\n",
    "        data_n = data / sigmas\n",
    "        self.W = np.exp(-euclidean_distances(data_n)**2)\n",
    "        \n",
    "        # calculate D\n",
    "        diago = np.sum(self.W,axis=1)\n",
    "        self.D = np.diag(diago)\n",
    "        \n",
    "    def score(self,labels):\n",
    "        return (self.predict()==labels).mean()"
   ]
  },
  {
   "cell_type": "code",
   "execution_count": 74,
   "metadata": {
    "collapsed": false,
    "deletable": true,
    "editable": true
   },
   "outputs": [
    {
     "name": "stdout",
     "output_type": "stream",
     "text": [
      "The score of Diffusion by class prior is 0.986577\n"
     ]
    }
   ],
   "source": [
    "M = DiffusionCMN()\n",
    "M.fit(data,labels)\n",
    "print(\"The score of Diffusion by class prior is %f\" % M.score(labpredire))"
   ]
  },
  {
   "cell_type": "markdown",
   "metadata": {
    "deletable": true,
    "editable": true
   },
   "source": [
    "## 3. Incorporating External Classifiers - SVM\n",
    "\n",
    "## 3.1 TRESH + SVM"
   ]
  },
  {
   "cell_type": "code",
   "execution_count": 81,
   "metadata": {
    "collapsed": true,
    "deletable": true,
    "editable": true
   },
   "outputs": [],
   "source": [
    "class DiffusionTRESHSVM:\n",
    "\n",
    "    def predict(self):\n",
    "        \n",
    "        # record label\n",
    "        set_labels = np.unique(self.labels)\n",
    "        \n",
    "        # calculate fu\n",
    "        y = (np.tile(self.labels.reshape((-1, 1)), (1, set_labels.shape[0])) == set_labels).astype(int)\n",
    "        fu = np.dot(np.dot(np.linalg.inv(self.D[self.L:,self.L:]-self.W[self.L:,self.L:]),self.W[self.L:,:self.L]),y)\n",
    "        fu = fu * self.hu\n",
    "        \n",
    "        prediction = set_labels[np.argmax(fu, axis = 1)]\n",
    "        return prediction          \n",
    "            \n",
    "    def fit(self,data,labels):\n",
    "        self.labels = labels\n",
    "        self.L = labels.shape[0]\n",
    "        sigmas = np.array([2.5 for i in range(m)])\n",
    "        \n",
    "        # calculate W\n",
    "        data_n = data / sigmas\n",
    "        self.W = np.exp(-euclidean_distances(data_n)**2)\n",
    "        \n",
    "        # calculate D\n",
    "        diago = np.sum(self.W,axis=1)\n",
    "        self.D = np.diag(diago)\n",
    "        \n",
    "        # train svm\n",
    "        clf = SVC(C=2, probability = True)\n",
    "        clf.fit(data[:self.L], labels)\n",
    "        self.hu = clf.predict_proba(data[self.L:])\n",
    "        \n",
    "    def score(self,labels):\n",
    "        return (self.predict()==labels).mean()"
   ]
  },
  {
   "cell_type": "code",
   "execution_count": null,
   "metadata": {
    "collapsed": false,
    "deletable": true,
    "editable": true
   },
   "outputs": [],
   "source": [
    "M = DiffusionTRESHSVM()\n",
    "M.fit(data,labels)\n",
    "print(\"The score of Diffusion by class prior is %f\" % M.score(labpredire))"
   ]
  },
  {
   "cell_type": "markdown",
   "metadata": {
    "deletable": true,
    "editable": true
   },
   "source": [
    "## 3.2 Non fonctionnel : essai car doute sur la formule utilisée dans TRESHSVM"
   ]
  },
  {
   "cell_type": "code",
   "execution_count": 97,
   "metadata": {
    "collapsed": false,
    "deletable": true,
    "editable": true
   },
   "outputs": [],
   "source": [
    "class DiffusionCMNSVM:\n",
    "\n",
    "    def predict(self):\n",
    "        \n",
    "        # record label\n",
    "        set_labels = np.unique(self.labels)\n",
    "        \n",
    "        # calculate fu\n",
    "        y = (np.tile(self.labels.reshape((-1, 1)), (1, set_labels.shape[0])) == set_labels).astype(int)\n",
    "        P =  np.dot(np.linalg.inv(self.D),self.W)\n",
    "        fu = np.dot(np.linalg.inv(np.eye(P.shape[0]-self.L)-(1-self.hu) * P[self.L:,self.L:]), np.dot((1-self.hu)*P[self.L:,:self.L], y) + np.dot(self.hu , self.pred_svm)) \n",
    "        \n",
    "        prediction = set_labels[np.argmax(fu, axis = 1)]\n",
    "        return prediction          \n",
    "         \n",
    "            \n",
    "    def fit(self,data,labels):\n",
    "        self.labels = labels\n",
    "        self.L = labels.shape[0]\n",
    "        sigmas = np.array([2.5 for i in range(m)])\n",
    "        \n",
    "        # calculate W\n",
    "        data_n = data / sigmas\n",
    "        self.W = np.exp(-euclidean_distances(data_n)**2)\n",
    "        \n",
    "        # calculate D\n",
    "        diago = np.sum(self.W,axis=1)\n",
    "        self.D = np.diag(diago)\n",
    "        \n",
    "        # train svm\n",
    "        clf = SVC(C=2, probability = True)\n",
    "        clf.fit(data[:self.L], labels)\n",
    "        self.hu = clf.predict_proba(data[L:])\n",
    "        self.pred_svm = clf.predict(data[L:])\n",
    "        print(np.shape(self.hu))\n",
    "        print(np.shape(self.pred_svm))\n",
    "        print(labels)\n",
    "\n",
    "        \n",
    "    def score(self,labels):\n",
    "        return (self.predict()==labels).mean()"
   ]
  },
  {
   "cell_type": "code",
   "execution_count": null,
   "metadata": {
    "collapsed": false,
    "deletable": true,
    "editable": true
   },
   "outputs": [],
   "source": [
    "M = DiffusionCMNSVM()\n",
    "M.fit(data,labels)\n",
    "print(\"The score of Diffusion by class prior is %f\" % M.score(labpredire))"
   ]
  },
  {
   "cell_type": "markdown",
   "metadata": {
    "deletable": true,
    "editable": true
   },
   "source": [
    "# TESTS"
   ]
  },
  {
   "cell_type": "code",
   "execution_count": 100,
   "metadata": {
    "collapsed": false,
    "deletable": true,
    "editable": true
   },
   "outputs": [
    {
     "data": {
      "image/png": "[encoded data removed]",
      "text/plain": [
       "<matplotlib.figure.Figure at 0x20b086f8e80>"
      ]
     },
     "metadata": {},
     "output_type": "display_data"
    }
   ],
   "source": [
    "def resultats(xtrain,ytrain):\n",
    "    (n,m) = np.shape(xtrain)\n",
    "\n",
    "    # shuffle data\n",
    "    idx = np.random.permutation(n)\n",
    "    xtrain = xtrain[idx]\n",
    "    ytrain = ytrain[idx]\n",
    "    xtrain = xtrain[:1000,:]\n",
    "    ytrain = ytrain[:1000]\n",
    "    (n,m) = np.shape(xtrain)\n",
    "\n",
    "    nb_tests = 30\n",
    "    # Pourcentage de la base d'apprentissage non étiquettée\n",
    "    list_percent_u = [((98-50)/100)*(i/nb_tests) + 50/100 for i in range(nb_tests)]\n",
    "    score_KNN,score_thresh,score_CMN,score_threshsvm = [],[],[], []\n",
    "\n",
    "    for percent_u in list_percent_u:\n",
    "        # nombre de données non étiquettées\n",
    "        U = int(percent_u * n)\n",
    "        # nombre de données étiquettées\n",
    "        L =  n-U\n",
    "        # étiquettes connues\n",
    "        labels = ytrain[:L]\n",
    "        # étiquettes à prédire\n",
    "        labpredire = ytrain[L:]\n",
    "        M = KNN(10)\n",
    "        M.fit(xtrain,labels)\n",
    "        score_KNN.append(M.score(labpredire))\n",
    "        M = DiffusionTRESH()\n",
    "        M.fit(xtrain,labels)\n",
    "        score_thresh.append(M.score(labpredire))\n",
    "        M = DiffusionCMN()\n",
    "        M.fit(xtrain,labels)\n",
    "        score_CMN.append(M.score(labpredire))\n",
    "        M = DiffusionTRESHSVM()\n",
    "        M.fit(xtrain,labels)\n",
    "        score_threshsvm.append(M.score(labpredire))\n",
    "    plt.figure(figsize=(20, 8))\n",
    "    plt.plot(list_percent_u,score_KNN,label = \"KNN\")\n",
    "    plt.plot(list_percent_u,score_thresh,label = \"TRESH\")\n",
    "    plt.plot(list_percent_u,score_CMN,label = \"CMN\")\n",
    "    plt.plot(list_percent_u,score_threshsvm,label = \"THRESH + SVM\")\n",
    "    plt.title(\"Résultat des prédictions pour diverses méthodes en fonction du pourcentage de données non étiquettées\")\n",
    "    plt.ylabel(\"Score obtenu\")\n",
    "    plt.xlabel(\"Pourcentage de données non étiquettées\")\n",
    "    plt.legend(bbox_to_anchor=(1.05, 1), loc=2, borderaxespad=0.)\n",
    "    plt.grid()\n",
    "    plt.show()\n",
    "\n",
    "\n",
    "# Test sur les données USPS\n",
    "xuspstrain,yuspstrain = load_usps(\"datas/usps/USPS_train.txt\")\n",
    "xuspstrain,yuspstrain = get_usps([0,1,2,3,4,5,6,7,8,9],xuspstrain,yuspstrain)\n",
    "\n",
    "resultats(xuspstrain,yuspstrain)"
   ]
  },
  {
   "cell_type": "markdown",
   "metadata": {
    "collapsed": true,
    "deletable": true,
    "editable": true
   },
   "source": [
    "# 4. Learning W"
   ]
  },
  {
   "cell_type": "markdown",
   "metadata": {},
   "source": [
    "### Binary classification"
   ]
  },
  {
   "cell_type": "code",
   "execution_count": 155,
   "metadata": {
    "collapsed": true,
    "deletable": true,
    "editable": true
   },
   "outputs": [],
   "source": [
    "class DiffusionLEARN:\n",
    "    \n",
    "    def __init__(self, eps=0.01, lr = 0.1):        \n",
    "        self.eps = eps\n",
    "        self.lr = lr\n",
    "\n",
    "    def oracle(self, sgm, max_iter):\n",
    "        \n",
    "        self.h_histo = [1000]\n",
    "        self.dh_histo = None\n",
    "        \n",
    "        for i in range(max_iter):\n",
    "            # calculate W\n",
    "            data_sgm = self.data / sgm\n",
    "            self.W = np.exp(-euclidean_distances(data_sgm) ** 2)\n",
    "            # calculate D\n",
    "            diago = np.sum(self.W,axis=1)\n",
    "            self.D = np.diag(diago)\n",
    "            # calculate P\n",
    "            P = np.dot(np.linalg.inv(self.D), self.W)\n",
    "            # calculate fu\n",
    "            fu = np.dot(np.dot(np.linalg.inv(np.eye(self.U) - P[L:, L:]), P[L:, :L]), self.fl)\n",
    "            # calculate H\n",
    "            self.h_histo.append(self.H(fu))\n",
    "            # if this is the right direction\n",
    "            if self.h_histo[-1] <= self.h_histo[-2]:\n",
    "                # calculate the gradient of H\n",
    "                dh = self.gradH(fu, P, sgm)\n",
    "                self.dh_histo = np.hstack((self.dh_histo, dh)) if self.dh_histo != None else dh\n",
    "                if np.all(np.abs(dh) < 1e-3) or self.lr < 1e-8:\n",
    "                    break\n",
    "                else:\n",
    "                    sgm = sgm - self.lr * dh.reshape((1, -1))\n",
    "            else:\n",
    "                self.lr = self.lr / 5\n",
    "                \n",
    "        self.sigmas = sgm\n",
    "        self.fu = fu\n",
    "\n",
    "    def H(self, fu):\n",
    "        return - (fu * np.log(fu)).sum() / self.U\n",
    "\n",
    "    def gradH(self, fu, P, sgm):\n",
    "        \n",
    "        Ps = (1 - self.eps) * P + self.eps / (self.L + self.U)\n",
    "        grad_h_sgm = []\n",
    "        \n",
    "        for i in range(256):\n",
    "            Xi = np.tile(self.data[:, i], (self.U + self.L, 1))\n",
    "            dw_sgm = 2 * self.W * ((Xi.T - Xi) ** 2) / (sgm[0, i] ** 3)\n",
    "            # formule 14\n",
    "            sum_dw = dw_sgm.sum(1).reshape((-1, 1))\n",
    "            sum_w = self.W.sum(1).reshape((-1, 1))\n",
    "            dps_sgm = (1 - self.eps) * (dw_sgm - P * sum_dw) / sum_w\n",
    "            # formule 13\n",
    "            dfu_sgm_1 = np.linalg.inv(np.eye(self.U) - Ps[self.L:, self.L:])\n",
    "            dfu_sgm_2 = dps_sgm[self.L:, self.L:].dot(fu) + dps_sgm[self.L:, :self.L].dot(self.fl)\n",
    "            dfu_sgm = np.dot(dfu_sgm_1, dfu_sgm_2)\n",
    "            # formule 12\n",
    "            dh_sgm = (fu[:,0] / fu[:, 1] * dfu_sgm[:, 1]).sum() / self.U\n",
    "            # save result\n",
    "            grad_h_sgm.append(dh_sgm)\n",
    "            \n",
    "        return np.array(grad_h_sgm).reshape((-1, 1))\n",
    "\n",
    "    def fit(self, data, labels):\n",
    "        self.labels = labels\n",
    "        self.data = data\n",
    "        self.L = labels.shape[0]\n",
    "        self.U = data.shape[0] - self.L\n",
    "        self.D = data.shape[1]\n",
    "        \n",
    "    def predict(self):\n",
    "        \n",
    "        # record label\n",
    "        set_labels = np.unique(self.labels)\n",
    "        # calculate fl\n",
    "        self.fl = (np.tile(self.labels.reshape((-1, 1)), (1, set_labels.shape[0])) == set_labels).astype(int)\n",
    "        sgm = np.array([2.5 for i in range(m)]).reshape((1, -1))\n",
    "        # optimisation\n",
    "        self.oracle(sgm, 5)\n",
    "        # predict\n",
    "        prediction = set_labels[np.argmax(self.fu, axis = 1)]\n",
    "        return prediction          \n",
    "    \n",
    "    def score(self, labels):\n",
    "        return (self.predict()==labels).mean()"
   ]
  },
  {
   "cell_type": "code",
   "execution_count": 163,
   "metadata": {
    "collapsed": false,
    "deletable": true,
    "editable": true,
    "scrolled": true
   },
   "outputs": [
    {
     "name": "stderr",
     "output_type": "stream",
     "text": [
      "/usr/local/lib/python2.7/site-packages/ipykernel/__main__.py:29: FutureWarning: comparison to `None` will result in an elementwise object comparison in the future.\n"
     ]
    },
    {
     "name": "stdout",
     "output_type": "stream",
     "text": [
      "The score of Diffusion by learning w is 0.985618\n"
     ]
    }
   ],
   "source": [
    "M = DiffusionLEARN()\n",
    "M.fit(data,labels)\n",
    "print(\"The score of Diffusion by learning w is %f\" % M.score(labpredire))"
   ]
  },
  {
   "cell_type": "markdown",
   "metadata": {},
   "source": [
    "### Multi-class"
   ]
  },
  {
   "cell_type": "code",
   "execution_count": null,
   "metadata": {
    "collapsed": true
   },
   "outputs": [],
   "source": [
    "class DiffusionLEARN2:\n",
    "    \n",
    "    def __init__(self, eps=0.01, lr = 0.1):        \n",
    "        self.eps = eps\n",
    "        self.lr = lr\n",
    "\n",
    "    def oracle(self, sgm, max_iter):\n",
    "        \n",
    "        self.h_histo = [1000]\n",
    "        self.dh_histo = None\n",
    "        \n",
    "        for i in range(max_iter):\n",
    "            # calculate W\n",
    "            data_sgm = self.data / sgm\n",
    "            self.W = np.exp(-euclidean_distances(data_sgm) ** 2)\n",
    "            # calculate D\n",
    "            diago = np.sum(self.W,axis=1)\n",
    "            self.D = np.diag(diago)\n",
    "            # calculate P\n",
    "            P = np.dot(np.linalg.inv(self.D), self.W)\n",
    "            # calculate fu\n",
    "            fu = np.dot(np.dot(np.linalg.inv(np.eye(self.U) - P[L:, L:]), P[L:, :L]), self.fl)\n",
    "            # calculate H\n",
    "            self.h_histo.append(self.H(fu))\n",
    "            # if this is the right direction\n",
    "            if self.h_histo[-1] <= self.h_histo[-2]:\n",
    "                # calculate the gradient of H\n",
    "                dh = self.gradH(fu, P, sgm)\n",
    "                self.dh_histo = np.hstack((self.dh_histo, dh)) if self.dh_histo != None else dh\n",
    "                if np.all(np.abs(dh) < 1e-3) or self.lr < 1e-8:\n",
    "                    break\n",
    "                else:\n",
    "                    sgm = sgm - self.lr * dh.reshape((1, -1))\n",
    "            else:\n",
    "                self.lr = self.lr / 5\n",
    "                \n",
    "        self.sigmas = sgm\n",
    "        self.fu = fu\n",
    "\n",
    "    def H(self, fu):\n",
    "        return - (fu * np.log(fu)).sum() / self.U\n",
    "\n",
    "    def gradH(self, fu, P, sgm):\n",
    "        \n",
    "        Ps = (1 - self.eps) * P + self.eps / (self.L + self.U)\n",
    "        grad_h_sgm = []\n",
    "        \n",
    "        for i in range(256):\n",
    "            Xi = np.tile(self.data[:, i], (self.U + self.L, 1))\n",
    "            dw_sgm = 2 * self.W * ((Xi.T - Xi) ** 2) / (sgm[0, i] ** 3)\n",
    "            # formule 14\n",
    "            sum_dw = dw_sgm.sum(1).reshape((-1, 1))\n",
    "            sum_w = self.W.sum(1).reshape((-1, 1))\n",
    "            dps_sgm = (1 - self.eps) * (dw_sgm - P * sum_dw) / sum_w\n",
    "            # formule 13\n",
    "            dfu_sgm_1 = np.linalg.inv(np.eye(self.U) - Ps[self.L:, self.L:])\n",
    "            dfu_sgm_2 = dps_sgm[self.L:, self.L:].dot(fu) + dps_sgm[self.L:, :self.L].dot(self.fl)\n",
    "            dfu_sgm = np.dot(dfu_sgm_1, dfu_sgm_2)\n",
    "            # formule 12\n",
    "            dh_sgm = -((np.log(fu) + 1) * dfu_sgm).sum() / self.U\n",
    "            # save result\n",
    "            grad_h_sgm.append(dh_sgm)\n",
    "            \n",
    "        return np.array(grad_h_sgm).reshape((-1, 1))\n",
    "\n",
    "    def fit(self, data, labels):\n",
    "        self.labels = labels\n",
    "        self.data = data\n",
    "        self.L = labels.shape[0]\n",
    "        self.U = data.shape[0] - self.L\n",
    "        self.D = data.shape[1]\n",
    "        \n",
    "    def predict(self):\n",
    "        \n",
    "        # record label\n",
    "        set_labels = np.unique(self.labels)\n",
    "        # calculate fl\n",
    "        self.fl = (np.tile(self.labels.reshape((-1, 1)), (1, set_labels.shape[0])) == set_labels).astype(int)\n",
    "        sgm = np.array([3.5 for i in range(m)]).reshape((1, -1))\n",
    "        # optimisation\n",
    "        self.oracle(sgm, 5)\n",
    "        # predict\n",
    "        prediction = set_labels[np.argmax(self.fu, axis = 1)]\n",
    "        return prediction          \n",
    "    \n",
    "    def score(self, labels):\n",
    "        return (self.predict()==labels).mean()"
   ]
  },
  {
   "cell_type": "code",
   "execution_count": null,
   "metadata": {
    "collapsed": true
   },
   "outputs": [],
   "source": [
    "M = DiffusionLEARN2()\n",
    "M.fit(data,labels)\n",
    "print(\"The score of Diffusion by learning w is %f\" % M.score(labpredire))"
   ]
  }
 ],
 "metadata": {
  "kernelspec": {
   "display_name": "Python 2",
   "language": "python",
   "name": "python2"
  },
  "language_info": {
   "codemirror_mode": {
    "name": "ipython",
    "version": 2
   },
   "file_extension": ".py",
   "mimetype": "text/x-python",
   "name": "python",
   "nbconvert_exporter": "python",
   "pygments_lexer": "ipython2",
   "version": "2.7.13"
  }
 },
 "nbformat": 4,
 "nbformat_minor": 1
}
