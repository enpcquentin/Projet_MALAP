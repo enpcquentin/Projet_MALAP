{
 "cells": [
  {
   "cell_type": "markdown",
   "metadata": {},
   "source": [
    "# Projet MALAP\n",
    "\n",
    "## Réalisé par Tong Zhao, Quentin Duchemin et Pierre Boyeau"
   ]
  },
  {
   "cell_type": "code",
   "execution_count": 79,
   "metadata": {
    "collapsed": true
   },
   "outputs": [],
   "source": [
    "import  numpy as np\n",
    "import matplotlib.pyplot as plt\n",
    "from tools import *\n",
    "\n",
    "def load_usps(filename):\n",
    "    with open(filename,\"r\") as f:\n",
    "        f.readline()\n",
    "        data =[ [float(x) for x in l.split()] for l in f if len(l.split())>2]\n",
    "    tmp = np.array(data)\n",
    "    return tmp[:,1:],tmp[:,0].astype(int)\n",
    "\n",
    "def get_usps(l,datax,datay):\n",
    "    \"\"\" l : liste des chiffres a extraire\"\"\"\n",
    "    if type(l)!=list:\n",
    "        resx = datax[datay==l,:]\n",
    "        resy = datay[datay==l]\n",
    "        return resx,resy\n",
    "    tmp =  list( zip(*[get_usps(i,datax,datay) for i in l]))\n",
    "    tmpx,tmpy = np.vstack(tmp[0]),np.hstack(tmp[1])\n",
    "    idx = np.random.permutation(range(len(tmpy)))\n",
    "    return tmpx[idx,:],tmpy[idx]\n",
    "\n",
    "def show_usps(data):\n",
    "    plt.imshow(data.reshape((16,16)),interpolation=\"nearest\",cmap=\"gray\")\n",
    "    \n",
    "xuspstrain,yuspstrain = load_usps(\"USPS_train.txt\")\n",
    "xuspstest,yuspstest = load_usps(\"USPS_test.txt\")\n",
    "x06train,y06train = get_usps([0,6],xuspstrain,yuspstrain)\n",
    "x06test,y06test = get_usps([0,6],xuspstest,yuspstest)"
   ]
  },
  {
   "cell_type": "markdown",
   "metadata": {},
   "source": [
    "## 1. Classification using simply threshold"
   ]
  },
  {
   "cell_type": "code",
   "execution_count": 91,
   "metadata": {
    "collapsed": true
   },
   "outputs": [],
   "source": [
    "class DiffusionTRESH:\n",
    "    def __init__(self,percent_u):\n",
    "        self.percent_u = percent_u    \n",
    "    def predict(self,data):\n",
    "        (n,m) = np.shape(data)\n",
    "        U = int(self.percent_u * n)\n",
    "        L = n-U\n",
    "        set_labels = list(set(self.labels))\n",
    "        y = np.zeros((L,len(set_labels)))\n",
    "        label_to_ind = {}\n",
    "        for j in range(len(set_labels)):\n",
    "            label_to_ind[set_labels[j]] = j\n",
    "        for i in range(L):\n",
    "            y[i,label_to_ind[self.labels[i]]] = 1\n",
    "        fu = np.dot(np.dot(np.linalg.inv(self.D[L:,L:]-self.W[L:,L:]),self.W[L:,:L]),y)\n",
    "        prediction = np.ones(U)\n",
    "        # application de la procédure : Threshold pour la classification\n",
    "        for i in range(U):\n",
    "            prediction[i] = set_labels[np.argmax(fu[i])]\n",
    "        return prediction          \n",
    "            \n",
    "    def fit(self,data,labels):\n",
    "        self.labels = labels\n",
    "        self.W = np.ones((n,n))\n",
    "        sigmas = np.array([5 for i in range(m)])\n",
    "        for i in range(n):\n",
    "            for j in range(i+1,n):\n",
    "                poids = np.exp(-np.sum((data[i,:]-data[j,:])**2/sigmas**2))\n",
    "                self.W[i,j] = poids\n",
    "                self.W[j,i] = poids\n",
    "        diago = np.sum(self.W,axis=1)\n",
    "        self.D = np.diag(diago)\n",
    "        \n",
    "    def score(self,data,labels):\n",
    "        return (self.predict(data)==labels).mean()\n"
   ]
  },
  {
   "cell_type": "code",
   "execution_count": 92,
   "metadata": {
    "collapsed": false
   },
   "outputs": [
    {
     "name": "stdout",
     "output_type": "stream",
     "text": [
      "0.98732718894\n"
     ]
    }
   ],
   "source": [
    "# Définition de la base d'apprentissage\n",
    "xuspstrain,yuspstrain = load_usps(\"USPS_train.txt\")\n",
    "xuspstrain,yuspstrain = get_usps([0,8],xuspstrain,yuspstrain)\n",
    "data = xuspstrain[:1800,:]\n",
    "yuspstrain = yuspstrain[:1800]\n",
    "(n,m) = np.shape(data)\n",
    "\n",
    "# Pourcentage de la base d'apprentissage non étiquettée\n",
    "percent_u = 50./100.\n",
    "# nombre de données non étiquettées\n",
    "U = int(percent_u * n)\n",
    "# nombre de données étiquettées\n",
    "L =  n-U\n",
    "\n",
    "# étiquettes connues\n",
    "labels = yuspstrain[:L]\n",
    "# étiquettes à prédire\n",
    "labpredire = yuspstrain[L:]\n",
    "\n",
    "\n",
    "M = DiffusionTRESH(percent_u)\n",
    "M.fit(data,labels)\n",
    "print(M.score(data,labpredire))"
   ]
  },
  {
   "cell_type": "markdown",
   "metadata": {
    "collapsed": false
   },
   "source": [
    "\n",
    "## 2. Incorporation of Class Prior : CMN with weights fixed by advance"
   ]
  },
  {
   "cell_type": "code",
   "execution_count": 93,
   "metadata": {
    "collapsed": false
   },
   "outputs": [],
   "source": [
    "class DiffusionCMN:\n",
    "    def __init__(self,percent_u):\n",
    "        self.percent_u = percent_u    \n",
    "    def predict(self,data):\n",
    "        (n,m) = np.shape(data)\n",
    "        U = int(self.percent_u * n)\n",
    "        L = n-U\n",
    "        set_labels = list(set(self.labels))\n",
    "        y = np.zeros((L,len(set_labels)))\n",
    "        \n",
    "        label_to_ind = {}\n",
    "        for j in range(len(set_labels)):\n",
    "            label_to_ind[set_labels[j]] = j\n",
    "        for i in range(L):\n",
    "            y[i,label_to_ind[self.labels[i]]] = 1\n",
    "        fu = np.dot(np.dot(np.linalg.inv(self.D[L:,L:]-self.W[L:,L:]),self.W[L:,:L]),y)\n",
    "        prediction = np.ones(U)\n",
    "        # application de la procédure : Class Mass Normalization\n",
    "        desirable_proportions = []\n",
    "        for lab in set_labels:\n",
    "            desirable_proportions.append(np.sum(self.labels == lab)/len(set_labels))\n",
    "        for i in range(U):\n",
    "            CMN = []\n",
    "            for j in range(len(set_labels)):\n",
    "                CMN.append(desirable_proportions[j] * fu[i,j] /np.sum(fu[i]))\n",
    "            prediction[i] = set_labels[np.argmax(CMN)]\n",
    "        return prediction          \n",
    "            \n",
    "    def fit(self,data,labels):\n",
    "        self.labels = labels\n",
    "        self.W = np.ones((n,n))\n",
    "        sigmas = np.array([5 for i in range(m)])\n",
    "        for i in range(n):\n",
    "            for j in range(i+1,n):\n",
    "                poids = np.exp(-np.sum((data[i,:]-data[j,:])**2/sigmas**2))\n",
    "                self.W[i,j] = poids\n",
    "                self.W[j,i] = poids\n",
    "        diago = np.sum(self.W,axis=1)\n",
    "        self.D = np.diag(diago)\n",
    "        \n",
    "    def score(self,data,labels):\n",
    "        return (self.predict(data)==labels).mean()\n",
    "\n"
   ]
  },
  {
   "cell_type": "code",
   "execution_count": 94,
   "metadata": {
    "collapsed": false
   },
   "outputs": [
    {
     "name": "stdout",
     "output_type": "stream",
     "text": [
      "0.966589861751\n"
     ]
    }
   ],
   "source": [
    "# Définition de la base d'apprentissage\n",
    "xuspstrain,yuspstrain = load_usps(\"USPS_train.txt\")\n",
    "xuspstrain,yuspstrain = get_usps([0,8],xuspstrain,yuspstrain)\n",
    "data = xuspstrain[:1800,:]\n",
    "yuspstrain = yuspstrain[:1800]\n",
    "(n,m) = np.shape(data)\n",
    "\n",
    "# Pourcentage de la base d'apprentissage non étiquettée\n",
    "percent_u = 50./100.\n",
    "# nombre de données non étiquettées\n",
    "U = int(percent_u * n)\n",
    "# nombre de données étiquettées\n",
    "L =  n-U\n",
    "\n",
    "# étiquettes connues\n",
    "labels = yuspstrain[:L]\n",
    "# étiquettes à prédire\n",
    "labpredire = yuspstrain[L:]\n",
    "\n",
    "\n",
    "M = DiffusionCMN(percent_u)\n",
    "M.fit(data,labels)\n",
    "print(M.score(data,labpredire))"
   ]
  },
  {
   "cell_type": "code",
   "execution_count": null,
   "metadata": {
    "collapsed": true
   },
   "outputs": [],
   "source": []
  }
 ],
 "metadata": {
  "kernelspec": {
   "display_name": "Python 3",
   "language": "python",
   "name": "python3"
  },
  "language_info": {
   "codemirror_mode": {
    "name": "ipython",
    "version": 3
   },
   "file_extension": ".py",
   "mimetype": "text/x-python",
   "name": "python",
   "nbconvert_exporter": "python",
   "pygments_lexer": "ipython3",
   "version": "3.5.2"
  }
 },
 "nbformat": 4,
 "nbformat_minor": 1
}
